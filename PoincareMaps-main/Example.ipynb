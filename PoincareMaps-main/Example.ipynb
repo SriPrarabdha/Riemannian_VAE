{
 "cells": [
  {
   "cell_type": "markdown",
   "metadata": {},
   "source": [
    "# Step by step guide how to run a simple example with Poincaré maps."
   ]
  },
  {
   "cell_type": "code",
   "execution_count": 1,
   "metadata": {},
   "outputs": [
    {
     "name": "stderr",
     "output_type": "stream",
     "text": [
      "/Users/klanna/anaconda3/lib/python3.7/site-packages/scanpy/api/__init__.py:6: FutureWarning: \n",
      "\n",
      "In a future version of Scanpy, `scanpy.api` will be removed.\n",
      "Simply use `import scanpy as sc` and `import scanpy.external as sce` instead.\n",
      "\n",
      "  FutureWarning,\n"
     ]
    }
   ],
   "source": [
    "import scanpy.api as sc\n",
    "import pandas as pd\n",
    "import numpy as np\n",
    "\n",
    "from main import *\n",
    "from poincare_maps import *\n",
    "\n",
    "%matplotlib inline\n"
   ]
  },
  {
   "cell_type": "code",
   "execution_count": 2,
   "metadata": {},
   "outputs": [],
   "source": [
    "dataset_fullpath = './datasets/ToggleSwitch'\n",
    "features, labels = prepare_data(dataset_fullpath, \n",
    "                                with_labels=True, \n",
    "                                normalize=True, \n",
    "                                n_pca=0)"
   ]
  },
  {
   "cell_type": "code",
   "execution_count": 5,
   "metadata": {},
   "outputs": [
    {
     "name": "stderr",
     "output_type": "stream",
     "text": [
      "loss: 1.86982:   0%|                           | 4/1000 [00:00<00:25, 38.99it/s]"
     ]
    },
    {
     "name": "stdout",
     "output_type": "stream",
     "text": [
      "Computing laplacian...\n",
      "Laplacian computed in 0.00 sec\n",
      "Computing RFA...\n",
      "RFA computed in 0.01 sec\n",
      "batchsize =  20\n",
      "Starting training...\n"
     ]
    },
    {
     "name": "stderr",
     "output_type": "stream",
     "text": [
      "loss: 0.06124:  30%|███████▌                 | 300/1000 [00:06<00:14, 49.00it/s]"
     ]
    },
    {
     "name": "stdout",
     "output_type": "stream",
     "text": [
      "\n",
      "Stopped at epoch 301\n",
      "PM computed in 6.28 sec\n"
     ]
    },
    {
     "data": {
      "image/png": "[encoded data removed]",
      "text/plain": [
       "<Figure size 288x288 with 1 Axes>"
      ]
     },
     "metadata": {
      "needs_background": "light"
     },
     "output_type": "display_data"
    },
    {
     "name": "stdout",
     "output_type": "stream",
     "text": [
      "loss = 6.124e-02\n",
      "time = 0.107 min\n"
     ]
    },
    {
     "name": "stderr",
     "output_type": "stream",
     "text": [
      "\n"
     ]
    },
    {
     "data": {
      "text/plain": [
       "<Figure size 432x288 with 0 Axes>"
      ]
     },
     "metadata": {},
     "output_type": "display_data"
    }
   ],
   "source": [
    "poincare_coord, _ = compute_poincare_maps(features, labels,\n",
    "                        'results/example',\n",
    "                        mode='features', k_neighbours=15, \n",
    "                        distlocal='minkowski', sigma=1.0, gamma=2.0,\n",
    "                        color_dict=None, epochs=1000,\n",
    "                        batchsize=-1, lr=0.1, earlystop=0.0001, cuda=0)"
   ]
  },
  {
   "cell_type": "code",
   "execution_count": 6,
   "metadata": {},
   "outputs": [],
   "source": [
    "np.savetxt('results/example.csv', poincare_coord, delimiter=\",\")"
   ]
  },
  {
   "cell_type": "markdown",
   "metadata": {},
   "source": [
    "# Plotting"
   ]
  },
  {
   "cell_type": "markdown",
   "metadata": {},
   "source": [
    "After Poincaré maps coordinates are computed, we can set up a new variable for pretty plots."
   ]
  },
  {
   "cell_type": "code",
   "execution_count": 7,
   "metadata": {},
   "outputs": [],
   "source": [
    "model = PoincareMaps(poincare_coord)"
   ]
  },
  {
   "cell_type": "code",
   "execution_count": 8,
   "metadata": {},
   "outputs": [
    {
     "data": {
      "image/png": "[encoded data removed]",
      "text/plain": [
       "<Figure size 324x288 with 1 Axes>"
      ]
     },
     "metadata": {
      "needs_background": "light"
     },
     "output_type": "display_data"
    }
   ],
   "source": [
    "model.plot('ori', labels=labels, file_name='results/example', \n",
    "           title_name='Poincaré map', \n",
    "           coldict=None, \n",
    "           labels_order=None, \n",
    "           zoom=None, bbox=(1.1, 0.8))\n"
   ]
  },
  {
   "cell_type": "markdown",
   "metadata": {},
   "source": [
    "We can also rotate Poincaré map with respect to a designated root"
   ]
  },
  {
   "cell_type": "code",
   "execution_count": 9,
   "metadata": {},
   "outputs": [],
   "source": [
    "model.iroot = poincare_root('root', labels, features) \n",
    "# we could also just explicitly say with respect to each point we want the rotation (via index of this point), \n",
    "# e.g. model.iroot = 0\n",
    "\n",
    "model.rotate()"
   ]
  },
  {
   "cell_type": "markdown",
   "metadata": {},
   "source": [
    "## Plotting functions in Poincaré maps have several parameters to tweak for more visually appealing figures:\n",
    "\n",
    "coldict - you can specify explicitly a dictionary with colors you want to use. Keys in the dictionary correspond to labels categories\n",
    "\n",
    "d1, d2 - define the size of the figure\n",
    "\n",
    "fs - defines font size of the text\n",
    "\n",
    "alpha - tranpsarency of the dots\n",
    "ms - size of the dots\n",
    "\n",
    "bbox - box of the legend\n",
    "\n",
    "print_labels - you can specify if you want the labels to appear on your plot\n",
    "\n",
    "file_name - full path to the file where you want to save your figure. If None the figure won't be saved."
   ]
  },
  {
   "cell_type": "code",
   "execution_count": 10,
   "metadata": {},
   "outputs": [
    {
     "data": {
      "image/png": "[encoded data removed]",
      "text/plain": [
       "<Figure size 360x360 with 1 Axes>"
      ]
     },
     "metadata": {
      "needs_background": "light"
     },
     "output_type": "display_data"
    }
   ],
   "source": [
    "# now we can easily plot the rotation\n",
    "model.plot('rot', labels=labels, file_name='results/example_rotated', \n",
    "           title_name='Poincaré map', \n",
    "           coldict=None, \n",
    "           d1=5, d2=5, fs=9, ms=10, alpha=0.8,\n",
    "           labels_order=None, \n",
    "           print_labels = True,\n",
    "           zoom=None, bbox=(1.1, 0.8))\n"
   ]
  },
  {
   "cell_type": "code",
   "execution_count": null,
   "metadata": {},
   "outputs": [],
   "source": []
  },
  {
   "cell_type": "code",
   "execution_count": null,
   "metadata": {},
   "outputs": [],
   "source": []
  },
  {
   "cell_type": "code",
   "execution_count": null,
   "metadata": {},
   "outputs": [],
   "source": []
  }
 ],
 "metadata": {
  "kernelspec": {
   "display_name": "Python 3",
   "language": "python",
   "name": "python3"
  },
  "language_info": {
   "codemirror_mode": {
    "name": "ipython",
    "version": 3
   },
   "file_extension": ".py",
   "mimetype": "text/x-python",
   "name": "python",
   "nbconvert_exporter": "python",
   "pygments_lexer": "ipython3",
   "version": "3.7.3"
  }
 },
 "nbformat": 4,
 "nbformat_minor": 2
}
